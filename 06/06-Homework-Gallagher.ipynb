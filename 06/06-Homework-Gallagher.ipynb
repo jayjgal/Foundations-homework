{
 "cells": [
  {
   "cell_type": "code",
   "execution_count": 1,
   "metadata": {
    "collapsed": true
   },
   "outputs": [],
   "source": [
    "import requests"
   ]
  },
  {
   "cell_type": "code",
   "execution_count": 2,
   "metadata": {
    "collapsed": true
   },
   "outputs": [],
   "source": [
    "response = requests.get(\"http://api.nytimes.com/svc/books/v2/lists/2009-06-21/hardcover-fiction.json?&api-key=7b74a02e671942b48a0698aff5aa9cc4\")"
   ]
  },
  {
   "cell_type": "code",
   "execution_count": 3,
   "metadata": {
    "collapsed": true
   },
   "outputs": [],
   "source": [
    "data = response.json()"
   ]
  },
  {
   "cell_type": "code",
   "execution_count": 4,
   "metadata": {
    "collapsed": false
   },
   "outputs": [
    {
     "data": {
      "text/plain": [
       "dict"
      ]
     },
     "execution_count": 4,
     "metadata": {},
     "output_type": "execute_result"
    }
   ],
   "source": [
    "type(data)"
   ]
  },
  {
   "cell_type": "code",
   "execution_count": 5,
   "metadata": {
    "collapsed": false
   },
   "outputs": [
    {
     "data": {
      "text/plain": [
       "dict_keys(['num_results', 'status', 'results', 'copyright', 'last_modified'])"
      ]
     },
     "execution_count": 5,
     "metadata": {},
     "output_type": "execute_result"
    }
   ],
   "source": [
    "data.keys()"
   ]
  },
  {
   "cell_type": "code",
   "execution_count": 6,
   "metadata": {
    "collapsed": false
   },
   "outputs": [
    {
     "data": {
      "text/plain": [
       "list"
      ]
     },
     "execution_count": 6,
     "metadata": {},
     "output_type": "execute_result"
    }
   ],
   "source": [
    "type(data['results'])"
   ]
  },
  {
   "cell_type": "code",
   "execution_count": 7,
   "metadata": {
    "collapsed": true
   },
   "outputs": [],
   "source": [
    "results = data['results']"
   ]
  },
  {
   "cell_type": "code",
   "execution_count": 8,
   "metadata": {
    "collapsed": false
   },
   "outputs": [
    {
     "data": {
      "text/plain": [
       "20"
      ]
     },
     "execution_count": 8,
     "metadata": {},
     "output_type": "execute_result"
    }
   ],
   "source": [
    "len(results)"
   ]
  },
  {
   "cell_type": "code",
   "execution_count": 9,
   "metadata": {
    "collapsed": false
   },
   "outputs": [
    {
     "name": "stdout",
     "output_type": "stream",
     "text": [
      "{'reviews', 'list_name_encoded', 'rank', 'list_image_height', 'published_date_range', 'bestsellers_date', 'list_image', 'normal_list_ends_at', 'rank_last_week', 'updated', 'list_name', 'display_name', 'dagger', 'weeks_on_list', 'asterisk', 'published_date', 'isbns', 'book_details', 'list_image_width'}\n"
     ]
    }
   ],
   "source": [
    "set_ = set()\n",
    "for dict_ in results:\n",
    "    set_.update(dict_.keys())\n",
    "print(set_)"
   ]
  },
  {
   "cell_type": "code",
   "execution_count": 130,
   "metadata": {
    "collapsed": false
   },
   "outputs": [
    {
     "name": "stdout",
     "output_type": "stream",
     "text": [
      "The New York Times hardcover fiction bestsellers during the week of Father's day 2009 were:\n",
      "1 SKIN TRADE Laurell K Hamilton\n",
      "2 MEDUSA Clive Cussler and Paul Kemprecos\n",
      "3 THE SCARECROW Michael Connelly\n",
      "4 SHANGHAI GIRLS Lisa See\n",
      "5 MATTERS OF THE HEART Danielle Steel\n",
      "6 GONE TOMORROW Lee Child\n",
      "7 DEAD AND GONE Charlaine Harris\n",
      "8 THE 8TH CONFESSION James Patterson and Maxine Paetro\n",
      "9 THE STRAIN Guillermo del Toro and Chuck Hogan\n",
      "10 WICKED PREY John Sandford\n",
      "11 THE HOST Stephenie Meyer\n",
      "12 FIRST FAMILY David Baldacci\n",
      "13 CEMETERY DANCE Douglas Preston and Lincoln Child\n",
      "14 UNDEAD AND UNWELCOME MaryJanice Davidson\n",
      "15 THE HELP Kathryn Stockett\n",
      "16 PYGMY Chuck Palahniuk\n",
      "17 MY FATHER'S TEARS AND OTHER STORIES John Updike\n",
      "18 ROAD DOGS Elmore Leonard\n",
      "19 THE STORY SISTERS Alice Hoffman\n",
      "20 HEARTLESS Diana Palmer\n"
     ]
    }
   ],
   "source": [
    "print(\"The New York Times hardcover fiction bestsellers during the week of Father's day 2009 were:\")\n",
    "for item in results:\n",
    "    print(item['rank'], item['book_details'][0]['title'], item['book_details'][0]['author'])"
   ]
  },
  {
   "cell_type": "code",
   "execution_count": null,
   "metadata": {
    "collapsed": true
   },
   "outputs": [],
   "source": [
    "\n",
    "# You'll be using the Dark Sky Forecast API from Forecast.io, available at https://developer.forecast.io. It's a pretty simple API, but be sure to read the documentation!\n",
    "\n",
    "# 1) Make a request from the Forecast.io API for where you were born (or lived, or want to visit!).\n",
    "\n",
    "# Tip: Once you've imported the JSON into a variable, check the timezone's name to make sure it seems like it got the right part of the world!\n",
    "# Tip 2: How is north vs. south and east vs. west latitude/longitude represented? Is it the normal North/South/East/West?\n",
    "\n",
    "# 2) What's the current wind speed? How much warmer does it feel than it actually is?\n",
    "\n",
    "# 3) The first daily forecast is the forecast for today. For the place you decided on up above, how much of the moon is currently visible?\n",
    "\n",
    "# 4) What's the difference between the high and low temperatures for today?\n",
    "\n",
    "# 5) Loop through the daily forecast, printing out the next week's worth of predictions. I'd like to know the high temperature for each day, and whether it's hot, warm, or cold, based on what temperatures you think are hot, warm or cold.\n",
    "\n",
    "# 6) What's the weather looking like for the rest of today in Miami, Florida? I'd like to know the temperature for every hour, and if it's going to have cloud cover of more than 0.5 say \"{temperature} and cloudy\" instead of just the temperature.\n",
    "\n",
    "# 7) What was the temperature in Central Park on Christmas Day, 1980? How about 1990? 2000?\n",
    "\n",
    "# Tip: You'll need to use UNIX time, which is the number of seconds since January 1, 1970. Google can help you convert a normal date!\n",
    "# Tip: You'll want to use Forecast.io's \"time machine\" API at https://developer.forecast.io/docs/v2\n",
    "\n",
    "\n",
    "# \n",
    "\n",
    "\n",
    "\n",
    "\n",
    "# 0f31c4b1160e62a4e7b9c3aee4fc1779\n",
    "\n",
    "\n",
    "# https://api.forecast.io/forecast/APIKEY/LATITUDE,LONGITUDE,TIME\n",
    "\n",
    "# America/New_York"
   ]
  },
  {
   "cell_type": "code",
   "execution_count": 15,
   "metadata": {
    "collapsed": true
   },
   "outputs": [],
   "source": [
    "response2 = requests.get (\"https://api.forecast.io/forecast/0f31c4b1160e62a4e7b9c3aee4fc1779/40.6782, -73.9442/\")"
   ]
  },
  {
   "cell_type": "code",
   "execution_count": 19,
   "metadata": {
    "collapsed": false
   },
   "outputs": [],
   "source": [
    "data2 = response2.json()"
   ]
  },
  {
   "cell_type": "code",
   "execution_count": 20,
   "metadata": {
    "collapsed": false
   },
   "outputs": [
    {
     "data": {
      "text/plain": [
       "dict"
      ]
     },
     "execution_count": 20,
     "metadata": {},
     "output_type": "execute_result"
    }
   ],
   "source": [
    "type(data2)"
   ]
  },
  {
   "cell_type": "code",
   "execution_count": 21,
   "metadata": {
    "collapsed": false
   },
   "outputs": [
    {
     "data": {
      "text/plain": [
       "dict_keys(['latitude', 'daily', 'flags', 'timezone', 'longitude', 'minutely', 'hourly', 'currently', 'offset'])"
      ]
     },
     "execution_count": 21,
     "metadata": {},
     "output_type": "execute_result"
    }
   ],
   "source": [
    "data2.keys()"
   ]
  },
  {
   "cell_type": "code",
   "execution_count": 22,
   "metadata": {
    "collapsed": false
   },
   "outputs": [
    {
     "name": "stdout",
     "output_type": "stream",
     "text": [
      "America/New_York\n"
     ]
    }
   ],
   "source": [
    "print(data2['timezone'])"
   ]
  },
  {
   "cell_type": "code",
   "execution_count": 26,
   "metadata": {
    "collapsed": false
   },
   "outputs": [],
   "source": [
    "hourly = (data2['hourly']['data'][0])"
   ]
  },
  {
   "cell_type": "code",
   "execution_count": 27,
   "metadata": {
    "collapsed": false
   },
   "outputs": [
    {
     "data": {
      "text/plain": [
       "dict_keys(['humidity', 'summary', 'apparentTemperature', 'precipProbability', 'windSpeed', 'cloudCover', 'temperature', 'precipIntensity', 'windBearing', 'ozone', 'dewPoint', 'icon', 'time', 'pressure', 'visibility'])"
      ]
     },
     "execution_count": 27,
     "metadata": {},
     "output_type": "execute_result"
    }
   ],
   "source": [
    "hourly.keys()"
   ]
  },
  {
   "cell_type": "code",
   "execution_count": 33,
   "metadata": {
    "collapsed": false
   },
   "outputs": [
    {
     "name": "stdout",
     "output_type": "stream",
     "text": [
      "The wind speed is 8.29 and the difference between the real and apparent temperature is 0.0\n"
     ]
    }
   ],
   "source": [
    "print(\"The wind speed is\", hourly['windSpeed'], \"and the difference between the real and apparent temperature is\", (hourly['apparentTemperature'] - hourly['temperature']))"
   ]
  },
  {
   "cell_type": "code",
   "execution_count": 37,
   "metadata": {
    "collapsed": false
   },
   "outputs": [
    {
     "data": {
      "text/plain": [
       "dict"
      ]
     },
     "execution_count": 37,
     "metadata": {},
     "output_type": "execute_result"
    }
   ],
   "source": [
    "type(data2['daily'])"
   ]
  },
  {
   "cell_type": "code",
   "execution_count": 38,
   "metadata": {
    "collapsed": false
   },
   "outputs": [
    {
     "name": "stdout",
     "output_type": "stream",
     "text": [
      "dict_keys(['data', 'summary', 'icon'])\n"
     ]
    }
   ],
   "source": [
    "print(data2['daily'].keys())"
   ]
  },
  {
   "cell_type": "code",
   "execution_count": 43,
   "metadata": {
    "collapsed": false
   },
   "outputs": [],
   "source": [
    "daily = (data2['daily']['data'][0])"
   ]
  },
  {
   "cell_type": "code",
   "execution_count": 44,
   "metadata": {
    "collapsed": false
   },
   "outputs": [
    {
     "data": {
      "text/plain": [
       "dict"
      ]
     },
     "execution_count": 44,
     "metadata": {},
     "output_type": "execute_result"
    }
   ],
   "source": [
    "type(daily)"
   ]
  },
  {
   "cell_type": "code",
   "execution_count": 45,
   "metadata": {
    "collapsed": false
   },
   "outputs": [
    {
     "data": {
      "text/plain": [
       "dict_keys(['temperatureMaxTime', 'precipIntensityMax', 'apparentTemperatureMaxTime', 'precipProbability', 'moonPhase', 'pressure', 'temperatureMin', 'precipIntensity', 'apparentTemperatureMinTime', 'dewPoint', 'sunsetTime', 'visibility', 'humidity', 'temperatureMax', 'ozone', 'cloudCover', 'summary', 'windBearing', 'sunriseTime', 'windSpeed', 'temperatureMinTime', 'icon', 'apparentTemperatureMax', 'time', 'apparentTemperatureMin'])"
      ]
     },
     "execution_count": 45,
     "metadata": {},
     "output_type": "execute_result"
    }
   ],
   "source": [
    "daily.keys()"
   ]
  },
  {
   "cell_type": "code",
   "execution_count": 76,
   "metadata": {
    "collapsed": false
   },
   "outputs": [
    {
     "name": "stdout",
     "output_type": "stream",
     "text": [
      "The difference between today's temperature high and low will be: 21.449999999999996 The percentage of the moon currently visible is 28.999999999999996\n"
     ]
    }
   ],
   "source": [
    "print(\"The difference between today's temperature high and low will be:\", (daily['temperatureMax'] - daily['temperatureMin']), \"The percentage of the moon currently visible is\", (daily['moonPhase'] * 100))"
   ]
  },
  {
   "cell_type": "code",
   "execution_count": 66,
   "metadata": {
    "collapsed": false
   },
   "outputs": [],
   "source": [
    "daily_forecasts = data2['daily']['data']"
   ]
  },
  {
   "cell_type": "code",
   "execution_count": 73,
   "metadata": {
    "collapsed": false
   },
   "outputs": [
    {
     "name": "stdout",
     "output_type": "stream",
     "text": [
      "The high will be 80.99 It's hot!\n",
      "The high will be 84.14 It's hot!\n",
      "The high will be 74.7 It's warm\n",
      "The high will be 74.18 It's warm\n",
      "The high will be 75.27 It's hot!\n",
      "The high will be 76.85 It's hot!\n",
      "The high will be 82.1 It's hot!\n"
     ]
    }
   ],
   "source": [
    "for day in daily_forecasts[1:]:\n",
    "    if day['temperatureMax'] > 75:\n",
    "        print(\"The high will be\", day['temperatureMax'], \"It's hot!\")\n",
    "    elif day['temperatureMax'] > 70: \n",
    "        print(\"The high will be\", day['temperatureMax'], \"It's warm\")\n",
    "    elif day['temperatureMax'] < 60:\n",
    "        print(\"The high will be\", day['temperatureMax'], \"It's cold!\")"
   ]
  },
  {
   "cell_type": "code",
   "execution_count": 77,
   "metadata": {
    "collapsed": true
   },
   "outputs": [],
   "source": [
    "response3 = requests.get (\"https://api.forecast.io/forecast/0f31c4b1160e62a4e7b9c3aee4fc1779/25.7617, -80.1918/\")\n"
   ]
  },
  {
   "cell_type": "code",
   "execution_count": 81,
   "metadata": {
    "collapsed": true
   },
   "outputs": [],
   "source": [
    "data3 = response3.json()"
   ]
  },
  {
   "cell_type": "code",
   "execution_count": 82,
   "metadata": {
    "collapsed": false
   },
   "outputs": [
    {
     "data": {
      "text/plain": [
       "dict_keys(['latitude', 'daily', 'flags', 'timezone', 'longitude', 'minutely', 'hourly', 'currently', 'offset'])"
      ]
     },
     "execution_count": 82,
     "metadata": {},
     "output_type": "execute_result"
    }
   ],
   "source": [
    "data3.keys()"
   ]
  },
  {
   "cell_type": "code",
   "execution_count": 89,
   "metadata": {
    "collapsed": false
   },
   "outputs": [
    {
     "name": "stdout",
     "output_type": "stream",
     "text": [
      "{'humidity': 0.85, 'summary': 'Clear', 'apparentTemperature': 85.21, 'precipProbability': 0, 'windSpeed': 1.59, 'cloudCover': 0.03, 'temperature': 80.08, 'precipIntensity': 0, 'windBearing': 321, 'ozone': 317.72, 'dewPoint': 75.26, 'icon': 'clear-day', 'time': 1465819200, 'pressure': 1016.96, 'visibility': 9.87}\n"
     ]
    }
   ],
   "source": [
    "print(data3['hourly']['data'][0])"
   ]
  },
  {
   "cell_type": "code",
   "execution_count": 90,
   "metadata": {
    "collapsed": true
   },
   "outputs": [],
   "source": [
    "hourly = data3['hourly']['data']"
   ]
  },
  {
   "cell_type": "code",
   "execution_count": 91,
   "metadata": {
    "collapsed": false
   },
   "outputs": [
    {
     "data": {
      "text/plain": [
       "49"
      ]
     },
     "execution_count": 91,
     "metadata": {},
     "output_type": "execute_result"
    }
   ],
   "source": [
    "len(hourly)"
   ]
  },
  {
   "cell_type": "code",
   "execution_count": 103,
   "metadata": {
    "collapsed": false
   },
   "outputs": [
    {
     "name": "stdout",
     "output_type": "stream",
     "text": [
      "Hourly temperature forecast: 80.08\n",
      "Hourly temperature forecast: 81.97\n",
      "Hourly temperature forecast: 82.48\n",
      "Hourly temperature forecast: 83.51\n",
      "Hourly temperature forecast: 84.83\n",
      "Hourly temperature forecast: 86.16\n",
      "Hourly temperature forecast: 87.44\n",
      "Hourly temperature forecast: 86.96\n",
      "Hourly temperature forecast: 86.44\n",
      "Hourly temperature forecast: 85.64\n",
      "Hourly temperature forecast: 84.6\n",
      "Hourly temperature forecast: 83.98\n",
      "Hourly temperature forecast: 82.82\n",
      "Hourly temperature forecast: 82.09\n",
      "Hourly temperature forecast: 81.17\n",
      "Hourly temperature forecast: 80.75\n",
      "Hourly temperature forecast: 79.57\n",
      "Hourly temperature forecast: 78.74\n",
      "Hourly temperature forecast: 77.62\n",
      "Hourly temperature forecast: 76.89\n",
      "Hourly temperature forecast: 75.94\n",
      "Hourly temperature forecast: 76.68\n",
      "Hourly temperature forecast: 77.6\n"
     ]
    }
   ],
   "source": [
    "for hour in hourly[:23]:\n",
    "    if hour['cloudCover'] > .5:\n",
    "        print(hour['temperature'], \"cloudy\")\n",
    "    else: \n",
    "        print(\"Hourly temperature forecast:\", hour['temperature'])\n",
    "\n",
    "#if it's going to have cloud cover of more than 0.5 say \"{temperature} and cloudy\" instead of just the temperature."
   ]
  },
  {
   "cell_type": "code",
   "execution_count": 104,
   "metadata": {
    "collapsed": true
   },
   "outputs": [],
   "source": [
    "# 7) What was the temperature in Central Park on Christmas Day, 1980? How about 1990? 2000?\n",
    "\n",
    "# Tip: You'll need to use UNIX time, which is the number of seconds since January 1, 1970. Google can help you convert a normal date!\n",
    "# Tip: You'll want to use Forecast.io's \"time machine\" API at https://developer.forecast.io/docs/v2\n",
    "\n",
    "response4 = requests.get(\"https://api.forecast.io/forecast/0f31c4b1160e62a4e7b9c3aee4fc1779/40.7829,-73.9654,1980-12-25T12:00:00-0400\")"
   ]
  },
  {
   "cell_type": "code",
   "execution_count": 105,
   "metadata": {
    "collapsed": true
   },
   "outputs": [],
   "source": [
    "data4 = response4.json()"
   ]
  },
  {
   "cell_type": "code",
   "execution_count": 108,
   "metadata": {
    "collapsed": false
   },
   "outputs": [
    {
     "data": {
      "text/plain": [
       "dict_keys(['latitude', 'daily', 'flags', 'timezone', 'longitude', 'hourly', 'currently', 'offset'])"
      ]
     },
     "execution_count": 108,
     "metadata": {},
     "output_type": "execute_result"
    }
   ],
   "source": [
    "data4.keys()"
   ]
  },
  {
   "cell_type": "code",
   "execution_count": 127,
   "metadata": {
    "collapsed": false
   },
   "outputs": [
    {
     "name": "stdout",
     "output_type": "stream",
     "text": [
      "The temperature in Central Park on Christmas Day 1980 was 28.48\n"
     ]
    }
   ],
   "source": [
    "print(\"The temperature in Central Park on Christmas Day 1980 was\", data4['hourly']['data'][0]['temperature'])"
   ]
  },
  {
   "cell_type": "code",
   "execution_count": 118,
   "metadata": {
    "collapsed": true
   },
   "outputs": [],
   "source": [
    "response5 = requests.get(\"https://api.forecast.io/forecast/0f31c4b1160e62a4e7b9c3aee4fc1779/40.7829,-73.9654,1990-12-25T12:00:00-0400\")"
   ]
  },
  {
   "cell_type": "code",
   "execution_count": 120,
   "metadata": {
    "collapsed": true
   },
   "outputs": [],
   "source": [
    "data5 = response5.json()"
   ]
  },
  {
   "cell_type": "code",
   "execution_count": 126,
   "metadata": {
    "collapsed": false
   },
   "outputs": [
    {
     "name": "stdout",
     "output_type": "stream",
     "text": [
      "The temperature in Central Park on Christmas Day 1990 was 27.03\n"
     ]
    }
   ],
   "source": [
    "print(\"The temperature in Central Park on Christmas Day 1990 was\", data5['hourly']['data'][0]['temperature'])"
   ]
  },
  {
   "cell_type": "code",
   "execution_count": 122,
   "metadata": {
    "collapsed": true
   },
   "outputs": [],
   "source": [
    "response6 = requests.get(\"https://api.forecast.io/forecast/0f31c4b1160e62a4e7b9c3aee4fc1779/40.7829,-73.9654,2000-12-25T12:00:00-0400\")"
   ]
  },
  {
   "cell_type": "code",
   "execution_count": 123,
   "metadata": {
    "collapsed": true
   },
   "outputs": [],
   "source": [
    "data5 = response6.json()"
   ]
  },
  {
   "cell_type": "code",
   "execution_count": 124,
   "metadata": {
    "collapsed": false
   },
   "outputs": [
    {
     "name": "stdout",
     "output_type": "stream",
     "text": [
      "The temperature in Central Park on Christmas Day 2000 was 27.03\n"
     ]
    }
   ],
   "source": [
    "print(\"The temperature in Central Park on Christmas Day 2000 was\", data5['hourly']['data'][0]['temperature'])"
   ]
  },
  {
   "cell_type": "code",
   "execution_count": null,
   "metadata": {
    "collapsed": true
   },
   "outputs": [],
   "source": []
  }
 ],
 "metadata": {
  "kernelspec": {
   "display_name": "Python 3",
   "language": "python",
   "name": "python3"
  },
  "language_info": {
   "codemirror_mode": {
    "name": "ipython",
    "version": 3
   },
   "file_extension": ".py",
   "mimetype": "text/x-python",
   "name": "python",
   "nbconvert_exporter": "python",
   "pygments_lexer": "ipython3",
   "version": "3.5.1"
  }
 },
 "nbformat": 4,
 "nbformat_minor": 0
}
