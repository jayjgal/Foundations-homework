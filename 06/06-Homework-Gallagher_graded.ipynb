{
 "cells": [
  {
   "cell_type": "markdown",
   "metadata": {},
   "source": [
    "Graded 7/7"
   ]
  },
  {
   "cell_type": "code",
   "execution_count": 46,
   "metadata": {
    "collapsed": true
   },
   "outputs": [],
   "source": [
    "import requests"
   ]
  },
  {
   "cell_type": "code",
   "execution_count": 47,
   "metadata": {
    "collapsed": true
   },
   "outputs": [],
   "source": [
    "response = requests.get(\"http://api.nytimes.com/svc/books/v2/lists/2009-06-21/hardcover-fiction.json?&api-key=7b74a02e671942b48a0698aff5aa9cc4\")"
   ]
  },
  {
   "cell_type": "code",
   "execution_count": 48,
   "metadata": {
    "collapsed": true
   },
   "outputs": [],
   "source": [
    "data = response.json()"
   ]
  },
  {
   "cell_type": "code",
   "execution_count": 49,
   "metadata": {
    "collapsed": false
   },
   "outputs": [
    {
     "data": {
      "text/plain": [
       "dict"
      ]
     },
     "execution_count": 49,
     "metadata": {},
     "output_type": "execute_result"
    }
   ],
   "source": [
    "type(data)"
   ]
  },
  {
   "cell_type": "code",
   "execution_count": 50,
   "metadata": {
    "collapsed": false
   },
   "outputs": [
    {
     "data": {
      "text/plain": [
       "dict_keys(['status', 'num_results', 'last_modified', 'results', 'copyright'])"
      ]
     },
     "execution_count": 50,
     "metadata": {},
     "output_type": "execute_result"
    }
   ],
   "source": [
    "data.keys()"
   ]
  },
  {
   "cell_type": "code",
   "execution_count": 51,
   "metadata": {
    "collapsed": false
   },
   "outputs": [
    {
     "data": {
      "text/plain": [
       "list"
      ]
     },
     "execution_count": 51,
     "metadata": {},
     "output_type": "execute_result"
    }
   ],
   "source": [
    "type(data['results'])"
   ]
  },
  {
   "cell_type": "code",
   "execution_count": 52,
   "metadata": {
    "collapsed": true
   },
   "outputs": [],
   "source": [
    "results = data['results']"
   ]
  },
  {
   "cell_type": "code",
   "execution_count": 53,
   "metadata": {
    "collapsed": false
   },
   "outputs": [
    {
     "data": {
      "text/plain": [
       "20"
      ]
     },
     "execution_count": 53,
     "metadata": {},
     "output_type": "execute_result"
    }
   ],
   "source": [
    "len(results)"
   ]
  },
  {
   "cell_type": "code",
   "execution_count": 54,
   "metadata": {
    "collapsed": false
   },
   "outputs": [
    {
     "name": "stdout",
     "output_type": "stream",
     "text": [
      "{'book_details', 'published_date', 'weeks_on_list', 'updated', 'isbns', 'asterisk', 'reviews', 'list_image_height', 'rank_last_week', 'rank', 'normal_list_ends_at', 'list_image', 'bestsellers_date', 'list_image_width', 'list_name', 'list_name_encoded', 'published_date_range', 'display_name', 'dagger'}\n"
     ]
    }
   ],
   "source": [
    "set_ = set()\n",
    "for dict_ in results:\n",
    "    set_.update(dict_.keys())\n",
    "print(set_)"
   ]
  },
  {
   "cell_type": "code",
   "execution_count": 55,
   "metadata": {
    "collapsed": false
   },
   "outputs": [
    {
     "name": "stdout",
     "output_type": "stream",
     "text": [
      "The New York Times hardcover fiction bestsellers during the week of Father's day 2009 were:\n",
      "1 SKIN TRADE Laurell K Hamilton\n",
      "2 MEDUSA Clive Cussler and Paul Kemprecos\n",
      "3 THE SCARECROW Michael Connelly\n",
      "4 SHANGHAI GIRLS Lisa See\n",
      "5 MATTERS OF THE HEART Danielle Steel\n",
      "6 GONE TOMORROW Lee Child\n",
      "7 DEAD AND GONE Charlaine Harris\n",
      "8 THE 8TH CONFESSION James Patterson and Maxine Paetro\n",
      "9 THE STRAIN Guillermo del Toro and Chuck Hogan\n",
      "10 WICKED PREY John Sandford\n",
      "11 THE HOST Stephenie Meyer\n",
      "12 FIRST FAMILY David Baldacci\n",
      "13 CEMETERY DANCE Douglas Preston and Lincoln Child\n",
      "14 UNDEAD AND UNWELCOME MaryJanice Davidson\n",
      "15 THE HELP Kathryn Stockett\n",
      "16 PYGMY Chuck Palahniuk\n",
      "17 MY FATHER'S TEARS AND OTHER STORIES John Updike\n",
      "18 ROAD DOGS Elmore Leonard\n",
      "19 THE STORY SISTERS Alice Hoffman\n",
      "20 HEARTLESS Diana Palmer\n"
     ]
    }
   ],
   "source": [
    "print(\"The New York Times hardcover fiction bestsellers during the week of Father's day 2009 were:\")\n",
    "for item in results:\n",
    "    print(item['rank'], item['book_details'][0]['title'], item['book_details'][0]['author'])"
   ]
  },
  {
   "cell_type": "code",
   "execution_count": 56,
   "metadata": {
    "collapsed": true
   },
   "outputs": [],
   "source": [
    "\n",
    "# You'll be using the Dark Sky Forecast API from Forecast.io, available at https://developer.forecast.io. It's a pretty simple API, but be sure to read the documentation!\n",
    "\n",
    "# 1) Make a request from the Forecast.io API for where you were born (or lived, or want to visit!).\n",
    "\n",
    "# Tip: Once you've imported the JSON into a variable, check the timezone's name to make sure it seems like it got the right part of the world!\n",
    "# Tip 2: How is north vs. south and east vs. west latitude/longitude represented? Is it the normal North/South/East/West?\n",
    "\n",
    "# 2) What's the current wind speed? How much warmer does it feel than it actually is?\n",
    "\n",
    "# 3) The first daily forecast is the forecast for today. For the place you decided on up above, how much of the moon is currently visible?\n",
    "\n",
    "# 4) What's the difference between the high and low temperatures for today?\n",
    "\n",
    "# 5) Loop through the daily forecast, printing out the next week's worth of predictions. I'd like to know the high temperature for each day, and whether it's hot, warm, or cold, based on what temperatures you think are hot, warm or cold.\n",
    "\n",
    "# 6) What's the weather looking like for the rest of today in Miami, Florida? I'd like to know the temperature for every hour, and if it's going to have cloud cover of more than 0.5 say \"{temperature} and cloudy\" instead of just the temperature.\n",
    "\n",
    "# 7) What was the temperature in Central Park on Christmas Day, 1980? How about 1990? 2000?\n",
    "\n",
    "# Tip: You'll need to use UNIX time, which is the number of seconds since January 1, 1970. Google can help you convert a normal date!\n",
    "# Tip: You'll want to use Forecast.io's \"time machine\" API at https://developer.forecast.io/docs/v2\n",
    "\n",
    "\n",
    "# \n",
    "\n",
    "\n",
    "\n",
    "\n",
    "# 0f31c4b1160e62a4e7b9c3aee4fc1779\n",
    "\n",
    "\n",
    "# https://api.forecast.io/forecast/APIKEY/LATITUDE,LONGITUDE,TIME\n",
    "\n",
    "# America/New_York"
   ]
  },
  {
   "cell_type": "code",
   "execution_count": 57,
   "metadata": {
    "collapsed": true
   },
   "outputs": [],
   "source": [
    "response2 = requests.get (\"https://api.forecast.io/forecast/0f31c4b1160e62a4e7b9c3aee4fc1779/40.6782, -73.9442/\")"
   ]
  },
  {
   "cell_type": "code",
   "execution_count": 58,
   "metadata": {
    "collapsed": false
   },
   "outputs": [],
   "source": [
    "data2 = response2.json()"
   ]
  },
  {
   "cell_type": "code",
   "execution_count": 59,
   "metadata": {
    "collapsed": false
   },
   "outputs": [
    {
     "data": {
      "text/plain": [
       "dict"
      ]
     },
     "execution_count": 59,
     "metadata": {},
     "output_type": "execute_result"
    }
   ],
   "source": [
    "type(data2)"
   ]
  },
  {
   "cell_type": "code",
   "execution_count": 60,
   "metadata": {
    "collapsed": false
   },
   "outputs": [
    {
     "data": {
      "text/plain": [
       "dict_keys(['flags', 'daily', 'offset', 'minutely', 'hourly', 'latitude', 'longitude', 'currently', 'timezone'])"
      ]
     },
     "execution_count": 60,
     "metadata": {},
     "output_type": "execute_result"
    }
   ],
   "source": [
    "data2.keys()"
   ]
  },
  {
   "cell_type": "code",
   "execution_count": 61,
   "metadata": {
    "collapsed": false
   },
   "outputs": [
    {
     "name": "stdout",
     "output_type": "stream",
     "text": [
      "America/New_York\n"
     ]
    }
   ],
   "source": [
    "print(data2['timezone'])"
   ]
  },
  {
   "cell_type": "code",
   "execution_count": 62,
   "metadata": {
    "collapsed": false
   },
   "outputs": [],
   "source": [
    "hourly = (data2['hourly']['data'][0])"
   ]
  },
  {
   "cell_type": "code",
   "execution_count": 63,
   "metadata": {
    "collapsed": false
   },
   "outputs": [
    {
     "data": {
      "text/plain": [
       "dict_keys(['cloudCover', 'windSpeed', 'apparentTemperature', 'precipProbability', 'time', 'pressure', 'dewPoint', 'visibility', 'humidity', 'summary', 'ozone', 'precipIntensity', 'temperature', 'icon', 'windBearing'])"
      ]
     },
     "execution_count": 63,
     "metadata": {},
     "output_type": "execute_result"
    }
   ],
   "source": [
    "hourly.keys()"
   ]
  },
  {
   "cell_type": "code",
   "execution_count": 64,
   "metadata": {
    "collapsed": false
   },
   "outputs": [
    {
     "name": "stdout",
     "output_type": "stream",
     "text": [
      "The wind speed is 0.56 and the difference between the real and apparent temperature is -0.2600000000000051\n"
     ]
    }
   ],
   "source": [
    "print(\"The wind speed is\", hourly['windSpeed'], \"and the difference between the real and apparent temperature is\", (hourly['apparentTemperature'] - hourly['temperature']))"
   ]
  },
  {
   "cell_type": "code",
   "execution_count": 65,
   "metadata": {
    "collapsed": false
   },
   "outputs": [
    {
     "data": {
      "text/plain": [
       "dict"
      ]
     },
     "execution_count": 65,
     "metadata": {},
     "output_type": "execute_result"
    }
   ],
   "source": [
    "type(data2['daily'])"
   ]
  },
  {
   "cell_type": "code",
   "execution_count": 66,
   "metadata": {
    "collapsed": false
   },
   "outputs": [
    {
     "name": "stdout",
     "output_type": "stream",
     "text": [
      "dict_keys(['icon', 'summary', 'data'])\n"
     ]
    }
   ],
   "source": [
    "print(data2['daily'].keys())"
   ]
  },
  {
   "cell_type": "code",
   "execution_count": 67,
   "metadata": {
    "collapsed": false
   },
   "outputs": [],
   "source": [
    "daily = (data2['daily']['data'][0])"
   ]
  },
  {
   "cell_type": "code",
   "execution_count": 68,
   "metadata": {
    "collapsed": false
   },
   "outputs": [
    {
     "data": {
      "text/plain": [
       "dict"
      ]
     },
     "execution_count": 68,
     "metadata": {},
     "output_type": "execute_result"
    }
   ],
   "source": [
    "type(daily)"
   ]
  },
  {
   "cell_type": "code",
   "execution_count": 69,
   "metadata": {
    "collapsed": false
   },
   "outputs": [
    {
     "data": {
      "text/plain": [
       "dict_keys(['cloudCover', 'sunriseTime', 'apparentTemperatureMaxTime', 'apparentTemperatureMin', 'precipProbability', 'icon', 'precipType', 'temperatureMaxTime', 'visibility', 'summary', 'precipIntensityMax', 'precipIntensity', 'pressure', 'apparentTemperatureMax', 'precipIntensityMaxTime', 'windBearing', 'windSpeed', 'temperatureMin', 'time', 'temperatureMinTime', 'apparentTemperatureMinTime', 'dewPoint', 'humidity', 'moonPhase', 'ozone', 'temperatureMax', 'sunsetTime'])"
      ]
     },
     "execution_count": 69,
     "metadata": {},
     "output_type": "execute_result"
    }
   ],
   "source": [
    "daily.keys()"
   ]
  },
  {
   "cell_type": "code",
   "execution_count": 70,
   "metadata": {
    "collapsed": false
   },
   "outputs": [
    {
     "name": "stdout",
     "output_type": "stream",
     "text": [
      "The difference between today's temperature high and low will be: 21.150000000000006 The percentage of the moon currently visible is 44.0\n"
     ]
    }
   ],
   "source": [
    "print(\"The difference between today's temperature high and low will be:\", (daily['temperatureMax'] - daily['temperatureMin']), \"The percentage of the moon currently visible is\", (daily['moonPhase'] * 100))"
   ]
  },
  {
   "cell_type": "code",
   "execution_count": 71,
   "metadata": {
    "collapsed": false
   },
   "outputs": [],
   "source": [
    "daily_forecasts = data2['daily']['data']"
   ]
  },
  {
   "cell_type": "code",
   "execution_count": 72,
   "metadata": {
    "collapsed": false
   },
   "outputs": [
    {
     "name": "stdout",
     "output_type": "stream",
     "text": [
      "The high will be 83.85 It's hot!\n",
      "The high will be 82.38 It's hot!\n",
      "The high will be 84.03 It's hot!\n",
      "The high will be 82.02 It's hot!\n",
      "The high will be 80.88 It's hot!\n",
      "The high will be 78.18 It's hot!\n",
      "The high will be 77.98 It's hot!\n"
     ]
    }
   ],
   "source": [
    "for day in daily_forecasts[1:]:\n",
    "    if day['temperatureMax'] > 75:\n",
    "        print(\"The high will be\", day['temperatureMax'], \"It's hot!\")\n",
    "    elif day['temperatureMax'] > 70: \n",
    "        print(\"The high will be\", day['temperatureMax'], \"It's warm\")\n",
    "    elif day['temperatureMax'] < 60:\n",
    "        print(\"The high will be\", day['temperatureMax'], \"It's cold!\")\n",
    "#TA-Stephan: this would miss 61 through 69"
   ]
  },
  {
   "cell_type": "code",
   "execution_count": 73,
   "metadata": {
    "collapsed": true
   },
   "outputs": [],
   "source": [
    "response3 = requests.get (\"https://api.forecast.io/forecast/0f31c4b1160e62a4e7b9c3aee4fc1779/25.7617, -80.1918/\")\n"
   ]
  },
  {
   "cell_type": "code",
   "execution_count": 74,
   "metadata": {
    "collapsed": true
   },
   "outputs": [],
   "source": [
    "data3 = response3.json()"
   ]
  },
  {
   "cell_type": "code",
   "execution_count": 75,
   "metadata": {
    "collapsed": false
   },
   "outputs": [
    {
     "data": {
      "text/plain": [
       "dict_keys(['flags', 'daily', 'offset', 'minutely', 'hourly', 'latitude', 'longitude', 'currently', 'timezone'])"
      ]
     },
     "execution_count": 75,
     "metadata": {},
     "output_type": "execute_result"
    }
   ],
   "source": [
    "data3.keys()"
   ]
  },
  {
   "cell_type": "code",
   "execution_count": 76,
   "metadata": {
    "collapsed": false
   },
   "outputs": [
    {
     "name": "stdout",
     "output_type": "stream",
     "text": [
      "{'cloudCover': 0.16, 'pressure': 1017.63, 'windSpeed': 4.42, 'apparentTemperature': 99.67, 'precipProbability': 0.22, 'time': 1466269200, 'precipType': 'rain', 'dewPoint': 72.38, 'visibility': 10, 'humidity': 0.54, 'summary': 'Drizzle', 'ozone': 287.22, 'precipIntensity': 0.0052, 'temperature': 91.54, 'icon': 'rain', 'windBearing': 263}\n"
     ]
    }
   ],
   "source": [
    "print(data3['hourly']['data'][0])"
   ]
  },
  {
   "cell_type": "code",
   "execution_count": 77,
   "metadata": {
    "collapsed": true
   },
   "outputs": [],
   "source": [
    "hourly = data3['hourly']['data']"
   ]
  },
  {
   "cell_type": "code",
   "execution_count": 78,
   "metadata": {
    "collapsed": false
   },
   "outputs": [
    {
     "data": {
      "text/plain": [
       "49"
      ]
     },
     "execution_count": 78,
     "metadata": {},
     "output_type": "execute_result"
    }
   ],
   "source": [
    "len(hourly)"
   ]
  },
  {
   "cell_type": "code",
   "execution_count": 79,
   "metadata": {
    "collapsed": false
   },
   "outputs": [
    {
     "name": "stdout",
     "output_type": "stream",
     "text": [
      "Hourly temperature forecast: 91.54\n",
      "Hourly temperature forecast: 91.39\n",
      "91.21 cloudy\n",
      "90.39 cloudy\n",
      "89.07 cloudy\n",
      "87.5 cloudy\n",
      "85.86 cloudy\n",
      "84.85 cloudy\n",
      "83.38 cloudy\n",
      "83 cloudy\n",
      "82.14 cloudy\n",
      "81.75 cloudy\n",
      "81.21 cloudy\n",
      "80.27 cloudy\n",
      "79.55 cloudy\n",
      "Hourly temperature forecast: 78.47\n",
      "Hourly temperature forecast: 77.82\n",
      "Hourly temperature forecast: 77.4\n",
      "78.7 cloudy\n",
      "Hourly temperature forecast: 80.4\n",
      "82.07 cloudy\n",
      "84.75 cloudy\n",
      "Hourly temperature forecast: 87.1\n"
     ]
    }
   ],
   "source": [
    "for hour in hourly[:23]:\n",
    "    if hour['cloudCover'] > .5:\n",
    "        print(hour['temperature'], \"cloudy\")\n",
    "    else: \n",
    "        print(\"Hourly temperature forecast:\", hour['temperature'])\n",
    "\n",
    "#if it's going to have cloud cover of more than 0.5 say \"{temperature} and cloudy\" instead of just the temperature."
   ]
  },
  {
   "cell_type": "code",
   "execution_count": 80,
   "metadata": {
    "collapsed": true
   },
   "outputs": [],
   "source": [
    "# 7) What was the temperature in Central Park on Christmas Day, 1980? How about 1990? 2000?\n",
    "\n",
    "# Tip: You'll need to use UNIX time, which is the number of seconds since January 1, 1970. Google can help you convert a normal date!\n",
    "# Tip: You'll want to use Forecast.io's \"time machine\" API at https://developer.forecast.io/docs/v2\n",
    "\n",
    "response4 = requests.get(\"https://api.forecast.io/forecast/0f31c4b1160e62a4e7b9c3aee4fc1779/40.7829,-73.9654,1980-12-25T12:00:00-0400\")"
   ]
  },
  {
   "cell_type": "code",
   "execution_count": 81,
   "metadata": {
    "collapsed": true
   },
   "outputs": [],
   "source": [
    "data4 = response4.json()"
   ]
  },
  {
   "cell_type": "code",
   "execution_count": 82,
   "metadata": {
    "collapsed": false
   },
   "outputs": [
    {
     "data": {
      "text/plain": [
       "dict_keys(['flags', 'daily', 'offset', 'hourly', 'latitude', 'longitude', 'currently', 'timezone'])"
      ]
     },
     "execution_count": 82,
     "metadata": {},
     "output_type": "execute_result"
    }
   ],
   "source": [
    "data4.keys()"
   ]
  },
  {
   "cell_type": "code",
   "execution_count": 83,
   "metadata": {
    "collapsed": false
   },
   "outputs": [
    {
     "name": "stdout",
     "output_type": "stream",
     "text": [
      "The temperature in Central Park on Christmas Day 1980 was 28.48\n"
     ]
    }
   ],
   "source": [
    "print(\"The temperature in Central Park on Christmas Day 1980 was\", data4['hourly']['data'][0]['temperature'])"
   ]
  },
  {
   "cell_type": "code",
   "execution_count": 84,
   "metadata": {
    "collapsed": true
   },
   "outputs": [],
   "source": [
    "response5 = requests.get(\"https://api.forecast.io/forecast/0f31c4b1160e62a4e7b9c3aee4fc1779/40.7829,-73.9654,1990-12-25T12:00:00-0400\")"
   ]
  },
  {
   "cell_type": "code",
   "execution_count": 85,
   "metadata": {
    "collapsed": true
   },
   "outputs": [],
   "source": [
    "data5 = response5.json()"
   ]
  },
  {
   "cell_type": "code",
   "execution_count": 86,
   "metadata": {
    "collapsed": false
   },
   "outputs": [
    {
     "name": "stdout",
     "output_type": "stream",
     "text": [
      "The temperature in Central Park on Christmas Day 1990 was 30.16\n"
     ]
    }
   ],
   "source": [
    "print(\"The temperature in Central Park on Christmas Day 1990 was\", data5['hourly']['data'][0]['temperature'])"
   ]
  },
  {
   "cell_type": "code",
   "execution_count": 87,
   "metadata": {
    "collapsed": true
   },
   "outputs": [],
   "source": [
    "response6 = requests.get(\"https://api.forecast.io/forecast/0f31c4b1160e62a4e7b9c3aee4fc1779/40.7829,-73.9654,2000-12-25T12:00:00-0400\")"
   ]
  },
  {
   "cell_type": "code",
   "execution_count": 88,
   "metadata": {
    "collapsed": true
   },
   "outputs": [],
   "source": [
    "data5 = response6.json()"
   ]
  },
  {
   "cell_type": "code",
   "execution_count": 89,
   "metadata": {
    "collapsed": false
   },
   "outputs": [
    {
     "name": "stdout",
     "output_type": "stream",
     "text": [
      "The temperature in Central Park on Christmas Day 2000 was 27.03\n"
     ]
    }
   ],
   "source": [
    "print(\"The temperature in Central Park on Christmas Day 2000 was\", data5['hourly']['data'][0]['temperature'])"
   ]
  },
  {
   "cell_type": "code",
   "execution_count": null,
   "metadata": {
    "collapsed": true
   },
   "outputs": [],
   "source": []
  }
 ],
 "metadata": {
  "kernelspec": {
   "display_name": "Python 3",
   "language": "python",
   "name": "python3"
  },
  "language_info": {
   "codemirror_mode": {
    "name": "ipython",
    "version": 3
   },
   "file_extension": ".py",
   "mimetype": "text/x-python",
   "name": "python",
   "nbconvert_exporter": "python",
   "pygments_lexer": "ipython3",
   "version": "3.5.1"
  }
 },
 "nbformat": 4,
 "nbformat_minor": 0
}
