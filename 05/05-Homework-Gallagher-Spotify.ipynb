{
 "cells": [
  {
   "cell_type": "code",
   "execution_count": null,
   "metadata": {
    "collapsed": true
   },
   "outputs": [],
   "source": [
    "# 1) With \"Lil Wayne\" and \"Lil Kim\" there are a lot of \"Lil\" musicians. Do a search and print a list of 50 that are playable in the USA (or the country of your choice), along with their popularity score.\n",
    "# 2) What genres are most represented in the search results? Edit your previous printout to also display a list of their genres in the format \"GENRE_1, GENRE_2, GENRE_3\". If there are no genres, print \"No genres listed\".\n",
    "# Tip: \"how to join a list Python\" might be a helpful search\n",
    "# 3) Use a for loop to determine who BESIDES Lil Wayne has the highest popularity rating. Is it the same artist who has the largest number of followers?\n",
    "# 4) Print a list of Lil's that are more popular than Lil' Kim.\n",
    "# 5) Pick two of your favorite Lils to fight it out, and use their IDs to print out their top tracks.\n",
    "# Tip: You're going to be making two separate requests, be sure you DO NOT save them into the same variable.\n",
    "# 6) Will the world explode if a musicians swears? Get an average popularity for their explicit songs vs. their non-explicit songs. How many minutes of explicit songs do they have? Non-explicit?\n",
    "# 7) Since we're talking about Lils, what about Biggies? How many total \"Biggie\" artists are there? How many total \"Lil\"s? If you made 1 request every 5 seconds, how long would it take to download information on all the Lils vs the Biggies?\n",
    "# 8) Out of the top 50 \"Lil\"s and the top 50 \"Biggie\"s, who is more popular on average?"
   ]
  },
  {
   "cell_type": "code",
   "execution_count": 254,
   "metadata": {
    "collapsed": false
   },
   "outputs": [],
   "source": [
    "import requests"
   ]
  },
  {
   "cell_type": "code",
   "execution_count": 255,
   "metadata": {
    "collapsed": false
   },
   "outputs": [],
   "source": [
    "search_result = requests.get(\"https://api.spotify.com/v1/search?q=lil&type=artist&limit=50&market=US\")\n"
   ]
  },
  {
   "cell_type": "code",
   "execution_count": 256,
   "metadata": {
    "collapsed": true
   },
   "outputs": [],
   "source": [
    "data = search_result.json()\n"
   ]
  },
  {
   "cell_type": "code",
   "execution_count": 257,
   "metadata": {
    "collapsed": true
   },
   "outputs": [],
   "source": [
    "artists = data['artists']['items']"
   ]
  },
  {
   "cell_type": "code",
   "execution_count": 258,
   "metadata": {
    "collapsed": false
   },
   "outputs": [
    {
     "data": {
      "text/plain": [
       "list"
      ]
     },
     "execution_count": 258,
     "metadata": {},
     "output_type": "execute_result"
    }
   ],
   "source": [
    "type(artists)"
   ]
  },
  {
   "cell_type": "code",
   "execution_count": 259,
   "metadata": {
    "collapsed": false
   },
   "outputs": [
    {
     "name": "stdout",
     "output_type": "stream",
     "text": [
      "dict_keys(['previous', 'limit', 'total', 'items', 'offset', 'href', 'next'])\n"
     ]
    }
   ],
   "source": [
    "print(data['artists'].keys())\n"
   ]
  },
  {
   "cell_type": "code",
   "execution_count": 260,
   "metadata": {
    "collapsed": false
   },
   "outputs": [
    {
     "name": "stdout",
     "output_type": "stream",
     "text": [
      "{'type', 'followers', 'href', 'external_urls', 'name', 'genres', 'popularity', 'images', 'id', 'uri'}\n"
     ]
    }
   ],
   "source": [
    "set_ = set()\n",
    "for dict_ in artists:\n",
    "    set_.update(dict_.keys())\n",
    "print(set_)"
   ]
  },
  {
   "cell_type": "code",
   "execution_count": 261,
   "metadata": {
    "collapsed": false
   },
   "outputs": [
    {
     "name": "stdout",
     "output_type": "stream",
     "text": [
      "Lil Wayne 86\n",
      "Lil Yachty 72\n",
      "Lil Uzi Vert 72\n",
      "Lil Dicky 68\n",
      "Boosie Badazz 67\n",
      "Lil Jon 72\n",
      "King Lil G 61\n",
      "Lil Durk 60\n",
      "Lil Jon & The East Side Boyz 60\n",
      "Lil Bibby 54\n",
      "G Herbo 53\n",
      "Lil Rob 50\n",
      "Lil Reese 50\n",
      "Lil Keke 48\n",
      "Bow Wow 57\n",
      "Lil Scrappy 48\n",
      "Lil Wyte 50\n",
      "Lil Blood 45\n",
      "Lil Snupe 45\n",
      "Lil Mama 45\n",
      "Lil B 44\n",
      "Lil' Kim 62\n",
      "Lil Cuete 40\n",
      "Lil Phat 39\n",
      "Lil Debbie 43\n",
      "Lil Twist 39\n",
      "Lil Trill 37\n",
      "Lil Twon 38\n",
      "Lil AJ 37\n",
      "Lil Lonnie 37\n",
      "Lil Boom 35\n",
      "Lil Goofy 35\n",
      "Mr. Lil One 36\n",
      "Lil Haiti 36\n",
      "Lil Flash 38\n",
      "Lil Kesh 39\n",
      "Lil Cray 35\n",
      "Lil Silva 43\n",
      "Lil Rue 34\n",
      "Lil Eddie 41\n",
      "Lil Yase 33\n",
      "Lil Wayne, DJ Drama 35\n",
      "Lil Suzy 34\n",
      "Lil Mouse 34\n",
      "Lil C 33\n",
      "Lil Rick 39\n",
      "Lil June 32\n",
      "Lil E 34\n",
      "Lil Fate 34\n",
      "Lil' Flip 49\n"
     ]
    }
   ],
   "source": [
    "for item in artists:\n",
    "    print(item['name'], item['popularity'])"
   ]
  },
  {
   "cell_type": "code",
   "execution_count": 262,
   "metadata": {
    "collapsed": false
   },
   "outputs": [
    {
     "name": "stdout",
     "output_type": "stream",
     "text": [
      "Lil Wayne ['dirty south rap', 'pop rap', 'southern hip hop', 'trap music']\n",
      "Lil Jon ['crunk', 'dirty south rap', 'southern hip hop']\n",
      "Lil Rob ['chicano rap', 'latin hip hop']\n",
      "Bow Wow ['hip pop', 'pop rap']\n",
      "Lil Scrappy ['crunk', 'dirty south rap', 'southern hip hop', 'trap music']\n",
      "Lil Wyte ['juggalo']\n",
      "Lil Mama ['hip pop']\n",
      "Lil' Kim ['hip pop']\n",
      "Lil Cuete ['chicano rap']\n",
      "Lil Twist ['jerk']\n",
      "Lil Trill ['deep trap']\n",
      "Mr. Lil One ['chicano rap']\n",
      "Lil Suzy ['freestyle']\n",
      "Lil Rick ['soca']\n",
      "Lil' Flip ['crunk', 'dirty south rap']\n"
     ]
    }
   ],
   "source": [
    "for name in artists:\n",
    "    if name['genres'] != []:\n",
    "        print(name['name'], name['genres'])\n",
    "#    elif name['genres'] == []:\n",
    "#         print(name['name'], \"No genre\")"
   ]
  },
  {
   "cell_type": "code",
   "execution_count": 263,
   "metadata": {
    "collapsed": false
   },
   "outputs": [
    {
     "name": "stdout",
     "output_type": "stream",
     "text": [
      "The most popular genres of the lil artists are:  \n",
      "\n",
      "('dirty south rap', 4) \n",
      "\n",
      "('chicano rap', 3) \n",
      "\n",
      "('crunk', 3) \n",
      "\n",
      "('southern hip hop', 3) \n",
      "\n",
      "('hip pop', 3) \n",
      "\n",
      "('trap music', 2) \n",
      "\n",
      "('pop rap', 2) \n",
      "\n",
      "('juggalo', 1) \n",
      "\n",
      "('soca', 1) \n",
      "\n",
      "('latin hip hop', 1) \n",
      "\n",
      "('deep trap', 1) \n",
      "\n",
      "('freestyle', 1) \n",
      "\n",
      "('jerk', 1) \n",
      "\n"
     ]
    }
   ],
   "source": [
    "all_genres = []\n",
    "\n",
    "for artist in artists:\n",
    "    all_genres = all_genres + artist['genres']\n",
    "\n",
    "unique_genres = set(all_genres)\n",
    "\n",
    "for genre in unique_genres:\n",
    "    genre_count = all_genres.count(genre)\n",
    "\n",
    "    from collections import Counter\n",
    "    \n",
    "counts = Counter(all_genres)\n",
    "\n",
    "most_popular_genres = counts.most_common()\n",
    "\n",
    "#from __future__ import print_function\n",
    "\n",
    "print(\"The most popular genres of the lil artists are: \", \"\\n\")\n",
    "\n",
    "for item in most_popular_genres:\n",
    "    print(item, \"\\n\")\n",
    "\n",
    "\n",
    "#print(*most_popular_genres, sep='')\n",
    "\n",
    "\n",
    "\n",
    "\n"
   ]
  },
  {
   "cell_type": "code",
   "execution_count": 267,
   "metadata": {
    "collapsed": false
   },
   "outputs": [
    {
     "name": "stdout",
     "output_type": "stream",
     "text": [
      "Lil Wayne 86\n",
      "Genre list:  dirty south rap, pop rap, southern hip hop, trap music\n",
      "Lil Yachty 72\n",
      "No genres listed\n",
      "Lil Uzi Vert 72\n",
      "No genres listed\n",
      "Lil Dicky 68\n",
      "No genres listed\n",
      "Boosie Badazz 67\n",
      "No genres listed\n",
      "Lil Jon 72\n",
      "Genre list:  crunk, dirty south rap, southern hip hop\n",
      "King Lil G 61\n",
      "No genres listed\n",
      "Lil Durk 60\n",
      "No genres listed\n",
      "Lil Jon & The East Side Boyz 60\n",
      "No genres listed\n",
      "Lil Bibby 54\n",
      "No genres listed\n",
      "G Herbo 53\n",
      "No genres listed\n",
      "Lil Rob 50\n",
      "Genre list:  chicano rap, latin hip hop\n",
      "Lil Reese 50\n",
      "No genres listed\n",
      "Lil Keke 48\n",
      "No genres listed\n",
      "Bow Wow 57\n",
      "Genre list:  hip pop, pop rap\n",
      "Lil Scrappy 48\n",
      "Genre list:  crunk, dirty south rap, southern hip hop, trap music\n",
      "Lil Wyte 50\n",
      "Genre list:  juggalo\n",
      "Lil Blood 45\n",
      "No genres listed\n",
      "Lil Snupe 45\n",
      "No genres listed\n",
      "Lil Mama 45\n",
      "Genre list:  hip pop\n",
      "Lil B 44\n",
      "No genres listed\n",
      "Lil' Kim 62\n",
      "Genre list:  hip pop\n",
      "Lil Cuete 40\n",
      "Genre list:  chicano rap\n",
      "Lil Phat 39\n",
      "No genres listed\n",
      "Lil Debbie 43\n",
      "No genres listed\n",
      "Lil Twist 39\n",
      "Genre list:  jerk\n",
      "Lil Trill 37\n",
      "Genre list:  deep trap\n",
      "Lil Twon 38\n",
      "No genres listed\n",
      "Lil AJ 37\n",
      "No genres listed\n",
      "Lil Lonnie 37\n",
      "No genres listed\n",
      "Lil Boom 35\n",
      "No genres listed\n",
      "Lil Goofy 35\n",
      "No genres listed\n",
      "Mr. Lil One 36\n",
      "Genre list:  chicano rap\n",
      "Lil Haiti 36\n",
      "No genres listed\n",
      "Lil Flash 38\n",
      "No genres listed\n",
      "Lil Kesh 39\n",
      "No genres listed\n",
      "Lil Cray 35\n",
      "No genres listed\n",
      "Lil Silva 43\n",
      "No genres listed\n",
      "Lil Rue 34\n",
      "No genres listed\n",
      "Lil Eddie 41\n",
      "No genres listed\n",
      "Lil Yase 33\n",
      "No genres listed\n",
      "Lil Wayne, DJ Drama 35\n",
      "No genres listed\n",
      "Lil Suzy 34\n",
      "Genre list:  freestyle\n",
      "Lil Mouse 34\n",
      "No genres listed\n",
      "Lil C 33\n",
      "No genres listed\n",
      "Lil Rick 39\n",
      "Genre list:  soca\n",
      "Lil June 32\n",
      "No genres listed\n",
      "Lil E 34\n",
      "No genres listed\n",
      "Lil Fate 34\n",
      "No genres listed\n",
      "Lil' Flip 49\n",
      "Genre list:  crunk, dirty south rap\n"
     ]
    }
   ],
   "source": [
    "for artist in artists:\n",
    "    print(artist['name'], artist['popularity'])\n",
    "    # YES dirty south rap, pop rap, southern hip hop, trap music\n",
    "    # NO ['dirty south rap', 'pop rap', 'southern hip hop', 'trap music']\n",
    "    if len(artist['genres']) == 0:\n",
    "        print(\"No genres listed\")\n",
    "    else:\n",
    "        genres = \", \".join(artist['genres'])\n",
    "        print(\"Genre list: \", genres)"
   ]
  },
  {
   "cell_type": "code",
   "execution_count": 280,
   "metadata": {
    "collapsed": false
   },
   "outputs": [
    {
     "name": "stdout",
     "output_type": "stream",
     "text": [
      "The second most popular artist is Lil Yachty with a popularity of 72\n"
     ]
    }
   ],
   "source": [
    "most_popular_name = \"\"\n",
    "most_popular_score = 0\n",
    "for artist in artists:\n",
    "    if artist['name'] != \"Lil Wayne\":\n",
    "        if artist['popularity'] > most_popular_score:\n",
    "            most_popular_name = artist['name']\n",
    "            most_popular_score = artist['popularity']\n",
    "print(\"The second most popular artist is\", most_popular_name, \"with a popularity of\", most_popular_score)\n"
   ]
  },
  {
   "cell_type": "code",
   "execution_count": 281,
   "metadata": {
    "collapsed": false
   },
   "outputs": [
    {
     "name": "stdout",
     "output_type": "stream",
     "text": [
      "The artist with the most followers is Lil Jon with 256069 followers\n"
     ]
    }
   ],
   "source": [
    "most_followers_name = \"\"\n",
    "most_followers_score = 0\n",
    "for artist in artists:\n",
    "    if artist['name'] != \"Lil Wayne\":\n",
    "        if artist['followers']['total'] > most_followers_score:\n",
    "            most_followers_name = artist['name']\n",
    "            most_followers_score = artist['followers']['total']\n",
    "print(\"The artist with the most followers is\", most_followers_name, \"with\", most_followers_score, \"followers\")\n"
   ]
  },
  {
   "cell_type": "code",
   "execution_count": 286,
   "metadata": {
    "collapsed": false
   },
   "outputs": [
    {
     "name": "stdout",
     "output_type": "stream",
     "text": [
      "Lil' Kim 62\n"
     ]
    }
   ],
   "source": [
    "for artist in artists:\n",
    "    if artist['name'] == \"Lil' Kim\":\n",
    "        print(artist['name'], artist['popularity'])"
   ]
  },
  {
   "cell_type": "code",
   "execution_count": 287,
   "metadata": {
    "collapsed": false
   },
   "outputs": [
    {
     "name": "stdout",
     "output_type": "stream",
     "text": [
      "Lil Wayne 86\n",
      "Lil Yachty 72\n",
      "Lil Uzi Vert 72\n",
      "Lil Dicky 68\n",
      "Boosie Badazz 67\n",
      "Lil Jon 72\n"
     ]
    }
   ],
   "source": [
    "for artist in artists:\n",
    "    if artist['popularity'] > 62:\n",
    "        print(artist['name'], artist['popularity'])"
   ]
  },
  {
   "cell_type": "code",
   "execution_count": 293,
   "metadata": {
    "collapsed": false
   },
   "outputs": [
    {
     "name": "stdout",
     "output_type": "stream",
     "text": [
      "Lil Wayne 55Aa2cqylxrFIXC767Z865 2624017\n",
      "Lil Jon 7sfl4Xt5KmfyDs2T3SVSMK 256069\n"
     ]
    }
   ],
   "source": [
    "for artist in artists: \n",
    "    if artist['followers']['total'] > 250000:\n",
    "        print(artist['name'], artist['id'], artist['followers']['total'])"
   ]
  },
  {
   "cell_type": "code",
   "execution_count": 320,
   "metadata": {
    "collapsed": false
   },
   "outputs": [
    {
     "name": "stdout",
     "output_type": "stream",
     "text": [
      "['Lil Wayne', 'https://api.spotify.com/v1/artists/55Aa2cqylxrFIXC767Z865/top-tracks?country=US', 'Lil Jon', 'https://api.spotify.com/v1/artists/7sfl4Xt5KmfyDs2T3SVSMK/top-tracks?country=US']\n"
     ]
    }
   ],
   "source": [
    "artist_top_tracks = []\n",
    "for artist in artists:\n",
    "    if artist['followers']['total'] > 250000:\n",
    "        artist_top_tracks.append(artist['name'])\n",
    "        artist_top_tracks.append(\"https://api.spotify.com/v1/artists/\" + str(artist['id']) + \"/top-tracks?country=US\")\n",
    "print(artist_top_tracks)\n",
    "                                        \n",
    "                                 \n",
    "\n",
    "\n"
   ]
  },
  {
   "cell_type": "code",
   "execution_count": 5,
   "metadata": {
    "collapsed": false
   },
   "outputs": [],
   "source": [
    "import requests\n",
    "\n",
    "Lil_Wayne_response = requests.get(\"https://api.spotify.com/v1/artists/55Aa2cqylxrFIXC767Z865/top-tracks?country=US\")\n",
    "Lil_Jon_response = requests.get(\"https://api.spotify.com/v1/artists/7sfl4Xt5KmfyDs2T3SVSMK/top-tracks?country=US\")"
   ]
  },
  {
   "cell_type": "raw",
   "metadata": {
    "collapsed": true
   },
   "source": []
  },
  {
   "cell_type": "code",
   "execution_count": 6,
   "metadata": {
    "collapsed": true
   },
   "outputs": [],
   "source": [
    "Lil_Wayne_data = Lil_Wayne_response.json()\n",
    "Lil_Jon_data = Lil_Jon_response.json()"
   ]
  },
  {
   "cell_type": "code",
   "execution_count": 8,
   "metadata": {
    "collapsed": false
   },
   "outputs": [
    {
     "data": {
      "text/plain": [
       "dict_keys(['tracks'])"
      ]
     },
     "execution_count": 8,
     "metadata": {},
     "output_type": "execute_result"
    }
   ],
   "source": [
    "Lil_Wayne_data.keys()"
   ]
  },
  {
   "cell_type": "code",
   "execution_count": 11,
   "metadata": {
    "collapsed": false
   },
   "outputs": [
    {
     "data": {
      "text/plain": [
       "list"
      ]
     },
     "execution_count": 11,
     "metadata": {},
     "output_type": "execute_result"
    }
   ],
   "source": [
    "type(Lil_Wayne_data['tracks'])"
   ]
  },
  {
   "cell_type": "code",
   "execution_count": 18,
   "metadata": {
    "collapsed": false
   },
   "outputs": [
    {
     "name": "stdout",
     "output_type": "stream",
     "text": [
      "Lil Wayne's top tracks are:\n",
      "Forever\n",
      "Nothing But Trouble - Instagram Models\n",
      "6 Foot 7 Foot\n",
      "A Milli\n",
      "Right Above It\n",
      "Lollipop\n",
      "Love Me\n",
      "Rich As Fuck\n",
      "Mirror\n",
      "Believe Me\n"
     ]
    }
   ],
   "source": [
    "print(\"Lil Wayne's top tracks are:\")\n",
    "for track in Lil_Wayne_data['tracks']:\n",
    "    print(track['name'])"
   ]
  },
  {
   "cell_type": "code",
   "execution_count": 17,
   "metadata": {
    "collapsed": false
   },
   "outputs": [
    {
     "name": "stdout",
     "output_type": "stream",
     "text": [
      "Lil Jon's top tracks are:\n",
      "Turn Down for What\n",
      "Gasolina - DJ Buddah Remix\n",
      "Snap Yo Fingers\n",
      "Bend Ova\n",
      "Turn Down for What - Official Remix\n",
      "Culo\n",
      "Get Loose\n",
      "The Anthem\n",
      "Prison Riot\n",
      "Outta Your Mind\n"
     ]
    }
   ],
   "source": [
    "print(\"Lil Jon's top tracks are:\")\n",
    "for track in Lil_Jon_data['tracks']:\n",
    "    print(track['name'])"
   ]
  },
  {
   "cell_type": "code",
   "execution_count": 25,
   "metadata": {
    "collapsed": false
   },
   "outputs": [
    {
     "name": "stdout",
     "output_type": "stream",
     "text": [
      "dict_keys(['album', 'external_urls', 'disc_number', 'external_ids', 'type', 'name', 'preview_url', 'explicit', 'duration_ms', 'id', 'uri', 'href', 'artists', 'track_number', 'available_markets', 'popularity'])\n"
     ]
    }
   ],
   "source": [
    "print(Lil_Wayne_data['tracks'][0].keys())\n"
   ]
  },
  {
   "cell_type": "code",
   "execution_count": 43,
   "metadata": {
    "collapsed": false
   },
   "outputs": [],
   "source": [
    "for track in Lil_Wayne_data['tracks']:\n",
    "    if track['explicit'] == \"true\":\n",
    "        print(track['name'])"
   ]
  },
  {
   "cell_type": "code",
   "execution_count": null,
   "metadata": {
    "collapsed": true
   },
   "outputs": [],
   "source": []
  }
 ],
 "metadata": {
  "kernelspec": {
   "display_name": "Python 3",
   "language": "python",
   "name": "python3"
  },
  "language_info": {
   "codemirror_mode": {
    "name": "ipython",
    "version": 3
   },
   "file_extension": ".py",
   "mimetype": "text/x-python",
   "name": "python",
   "nbconvert_exporter": "python",
   "pygments_lexer": "ipython3",
   "version": "3.5.1"
  }
 },
 "nbformat": 4,
 "nbformat_minor": 0
}
